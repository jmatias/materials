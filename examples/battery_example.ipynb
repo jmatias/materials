version https://git-lfs.github.com/spec/v1
oid sha256:563fd7ac606bf2e228bf0cbc13655ecf5ad244c905e0378866412c09e019cd5d
size 281156
